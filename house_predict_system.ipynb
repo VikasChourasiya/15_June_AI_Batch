{
 "cells": [
  {
   "cell_type": "code",
   "execution_count": 1,
   "id": "5f116f6e-454f-458b-a946-135ef93399bd",
   "metadata": {},
   "outputs": [],
   "source": [
    "import pandas as pd"
   ]
  },
  {
   "cell_type": "code",
   "execution_count": 3,
   "id": "8c89ffe6-922a-4ed4-a30f-85c98f4c3dd9",
   "metadata": {},
   "outputs": [],
   "source": [
    "m = pd.read_pickle('house_price_predictor.pkl')"
   ]
  },
  {
   "cell_type": "code",
   "execution_count": 4,
   "id": "b09e3b3c-49b2-4171-8dab-e72c57a54570",
   "metadata": {},
   "outputs": [
    {
     "data": {
      "text/plain": [
       "LinearRegression()"
      ]
     },
     "execution_count": 4,
     "metadata": {},
     "output_type": "execute_result"
    }
   ],
   "source": [
    "m"
   ]
  },
  {
   "cell_type": "code",
   "execution_count": 6,
   "id": "8d167033-5bf4-400f-afb4-fdd8162f7cef",
   "metadata": {},
   "outputs": [
    {
     "name": "stdin",
     "output_type": "stream",
     "text": [
      "Enter the Income 2000000\n",
      "Enter the Age 5\n",
      "Enter the Room 2\n",
      "Enter the Population 500\n"
     ]
    },
    {
     "data": {
      "text/plain": [
       "41715909.96"
      ]
     },
     "execution_count": 6,
     "metadata": {},
     "output_type": "execute_result"
    }
   ],
   "source": [
    "inc = eval(input('Enter the Income'))\n",
    "age = eval(input('Enter the Age'))\n",
    "room = eval(input('Enter the Room'))\n",
    "pop = eval(input('Enter the Population'))\n",
    "\n",
    "query = pd.DataFrame({'Income':[inc],'house_age':[age],'Room':[room],'Population':[pop]})\n",
    "\n",
    "query\n",
    "\n",
    "round(m.predict(query)[0],2)"
   ]
  },
  {
   "cell_type": "code",
   "execution_count": null,
   "id": "dcfa989c-d327-4eff-ac65-827308a2b62f",
   "metadata": {},
   "outputs": [],
   "source": []
  }
 ],
 "metadata": {
  "kernelspec": {
   "display_name": "Python 3",
   "language": "python",
   "name": "python3"
  },
  "language_info": {
   "codemirror_mode": {
    "name": "ipython",
    "version": 3
   },
   "file_extension": ".py",
   "mimetype": "text/x-python",
   "name": "python",
   "nbconvert_exporter": "python",
   "pygments_lexer": "ipython3",
   "version": "3.8.8"
  }
 },
 "nbformat": 4,
 "nbformat_minor": 5
}
